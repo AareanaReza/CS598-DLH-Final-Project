{
  "nbformat": 4,
  "nbformat_minor": 0,
  "metadata": {
    "colab": {
      "provenance": [],
      "private_outputs": true,
      "machine_shape": "hm",
      "include_colab_link": true
    },
    "kernelspec": {
      "name": "python3",
      "display_name": "Python 3"
    },
    "language_info": {
      "name": "python"
    },
    "accelerator": "GPU",
    "gpuClass": "premium"
  },
  "cells": [
    {
      "cell_type": "markdown",
      "metadata": {
        "id": "view-in-github",
        "colab_type": "text"
      },
      "source": [
        "<a href=\"https://colab.research.google.com/github/AareanaReza/CS598-DLH-Final-Project/blob/main/DataPreProc.ipynb\" target=\"_parent\"><img src=\"https://colab.research.google.com/assets/colab-badge.svg\" alt=\"Open In Colab\"/></a>"
      ]
    },
    {
      "cell_type": "markdown",
      "source": [
        "#CS 598 DLH Project: Diagnoses Prediction"
      ],
      "metadata": {
        "id": "RsGBXgDxSiTr"
      }
    },
    {
      "cell_type": "markdown",
      "source": [
        "###Mount Google Drive"
      ],
      "metadata": {
        "id": "YqAvWzmk_R-Y"
      }
    },
    {
      "cell_type": "code",
      "source": [
        "from google.colab import drive\n",
        "drive.mount('/content/drive')"
      ],
      "metadata": {
        "id": "0m2lVXKITeAF"
      },
      "execution_count": null,
      "outputs": []
    },
    {
      "cell_type": "markdown",
      "source": [
        "###Paper and Github Citations"
      ],
      "metadata": {
        "id": "SshvD8HXQAlZ"
      }
    },
    {
      "cell_type": "markdown",
      "source": [
        "Zaghir J, Rodrigues-Jr JF, Goeuriot L, Amer-Yahia S. Real-world Patient Trajectory Prediction from Clinical Notes Using Artificial Neural Networks and UMLS-Based Extraction of Concepts. J Healthc Inform Res. 2021 Jun 5;5(4):474-496. doi: 10.1007/s41666-021-00100-z. PMID: 35419508; PMCID: PMC8982755.\n",
        "https://www.ncbi.nlm.nih.gov/pmc/articles/PMC8982755/#CR22\n",
        "GitHub:https://github.com/JamilProg/patient_trajectory_prediction\n",
        "\n",
        "\n"
      ],
      "metadata": {
        "id": "qRxiG2HKSKWU"
      }
    },
    {
      "cell_type": "markdown",
      "source": [
        "###Dependencies"
      ],
      "metadata": {
        "id": "pGLPPQgE_O5R"
      }
    },
    {
      "cell_type": "code",
      "source": [
        "import gzip\n",
        "import csv\n",
        "from itertools import islice\n",
        "import re\n",
        "import matplotlib.pyplot as plt\n",
        "import nltk\n",
        "from nltk.tokenize import word_tokenize\n",
        "import sys\n",
        "import os\n",
        "import numpy as np\n",
        "import pandas as pd\n",
        "import seaborn as sns\n",
        "import random"
      ],
      "metadata": {
        "id": "CtL6i0l3_NFO"
      },
      "execution_count": null,
      "outputs": []
    },
    {
      "cell_type": "code",
      "source": [
        "%matplotlib inline"
      ],
      "metadata": {
        "id": "i21lbS5NcZgz"
      },
      "execution_count": null,
      "outputs": []
    },
    {
      "cell_type": "markdown",
      "source": [
        "\n",
        "###Data Download Instructions\n",
        "\n"
      ],
      "metadata": {
        "id": "a1YKA57AQEkI"
      }
    },
    {
      "cell_type": "markdown",
      "source": [
        "To download NOTEEVENTS.csv, ADMISSION.csv, and DIAGNOSES_ICD.csv you will need to request access and download the files from this link:https://physionet.org/content/mimiciii/1.4/"
      ],
      "metadata": {
        "id": "jGZE8NxBaxJe"
      }
    },
    {
      "cell_type": "markdown",
      "source": [
        "You will aslo need to install QuickUMLS which require file access from the National Library of Medicine, see instructions : https://github.com/Georgetown-IR-Lab/QuickUMLS"
      ],
      "metadata": {
        "id": "q8faSLQEbQ3_"
      }
    },
    {
      "cell_type": "markdown",
      "source": [
        "##Preprocessing Code"
      ],
      "metadata": {
        "id": "u_tZ4N5XR_2O"
      }
    },
    {
      "cell_type": "markdown",
      "source": [
        "Path Variables"
      ],
      "metadata": {
        "id": "9XXDnvd5_gkH"
      }
    },
    {
      "cell_type": "code",
      "source": [
        "DATA_PREPROCESSING_PATH = '/content/drive/MyDrive/CS598-DLH-Final-Project/Data-Preprocessing/'\n",
        "NOTEEVENTS_CSV_GZ = DATA_PREPROCESSING_PATH + 'Original-Data/NOTEEVENTS.csv.gz'\n",
        "outpath = DATA_PREPROCESSING_PATH + 'Output-Data/'\n"
      ],
      "metadata": {
        "id": "EyQyZP-e7oFN"
      },
      "execution_count": null,
      "outputs": []
    },
    {
      "cell_type": "code",
      "source": [
        "NOTEEVENTS_CSV = DATA_PREPROCESSING_PATH + 'Original-Data/NOTEEVENTS.csv'"
      ],
      "metadata": {
        "id": "Hu4pQQi8xFcg"
      },
      "execution_count": null,
      "outputs": []
    },
    {
      "cell_type": "code",
      "source": [
        "ADMISSIONS_CSV = DATA_PREPROCESSING_PATH + 'Original-Data/ADMISSIONS.csv'"
      ],
      "metadata": {
        "id": "sueJgCCy_5hf"
      },
      "execution_count": null,
      "outputs": []
    },
    {
      "cell_type": "code",
      "source": [
        "DIAGNOSES_ICD = DATA_PREPROCESSING_PATH + 'Original-Data/DIAGNOSES_ICD.csv'"
      ],
      "metadata": {
        "id": "bLZiQPBuKELx"
      },
      "execution_count": null,
      "outputs": []
    },
    {
      "cell_type": "markdown",
      "source": [
        "### Visualization of Data Statistics"
      ],
      "metadata": {
        "id": "VjqgSeOCc2XH"
      }
    },
    {
      "cell_type": "markdown",
      "source": [
        "Notes Events Data"
      ],
      "metadata": {
        "id": "8mEo6mrF6MCF"
      }
    },
    {
      "cell_type": "code",
      "source": [
        "# Set size and color for plots\n",
        "sns.reset_defaults()\n",
        "sns.set(\n",
        "    rc={'figure.figsize':(10,6)}, \n",
        "    style=\"white\"\n",
        ")"
      ],
      "metadata": {
        "id": "gJLJFz5w6ZGp"
      },
      "execution_count": null,
      "outputs": []
    },
    {
      "cell_type": "code",
      "source": [
        "noteevents = pd.read_csv(NOTEEVENTS_CSV, low_memory = False)"
      ],
      "metadata": {
        "id": "2Y3ANqgA6a-B"
      },
      "execution_count": null,
      "outputs": []
    },
    {
      "cell_type": "code",
      "source": [
        "noteevents_orig = noteevents"
      ],
      "metadata": {
        "id": "72Nmx87-8ASN"
      },
      "execution_count": null,
      "outputs": []
    },
    {
      "cell_type": "code",
      "source": [
        "noteevents.info()"
      ],
      "metadata": {
        "id": "vj0T8qaK7T8R"
      },
      "execution_count": null,
      "outputs": []
    },
    {
      "cell_type": "code",
      "source": [
        "lns = [len(str(x)) for x in noteevents['TEXT']]\n",
        "sns.distplot(lns, kde=False, axlabel='Document length')\n",
        "plt.show()"
      ],
      "metadata": {
        "id": "3UNivDrp6K3s"
      },
      "execution_count": null,
      "outputs": []
    },
    {
      "cell_type": "code",
      "source": [
        "# Sort lengths\n",
        "lns.sort()\n",
        "# Take 5% as the removal size\n",
        "rm_size = int(len(lns) / 100) * 5\n",
        "\n",
        "# Now plot with removal of most/least frequent\n",
        "sns.distplot(lns[rm_size:-rm_size], kde=False, axlabel='Document length')\n",
        "plt.show()"
      ],
      "metadata": {
        "id": "464rkSp37sOX"
      },
      "execution_count": null,
      "outputs": []
    },
    {
      "cell_type": "code",
      "source": [
        "# Remove rows from the dataframe based on document length, this is not really\n",
        "#straightforward, so we'll approximate it and find the document length that is used as a cutoff \n",
        "min_ln = max(lns[0:rm_size])\n",
        "max_ln = min(lns[-rm_size:])\n",
        "\n",
        "noteevents = noteevents[[True if len(str(x)) > min_ln and len(str(x)) < max_ln else False for x in noteevents['TEXT']]]\n",
        "noteevents.head()"
      ],
      "metadata": {
        "id": "ELZgxSKs8FjT"
      },
      "execution_count": null,
      "outputs": []
    },
    {
      "cell_type": "code",
      "source": [
        "print(f\"Length after cleaning : {len(noteevents)}\")\n",
        "print(f\"Length of the original: {len(noteevents_orig)}\")"
      ],
      "metadata": {
        "id": "racAh9DN8dRb"
      },
      "execution_count": null,
      "outputs": []
    },
    {
      "cell_type": "code",
      "source": [
        "sns.distplot(noteevents['SUBJECT_ID'].value_counts().values, kde=False, axlabel='Documents per patient')\n",
        "plt.show()"
      ],
      "metadata": {
        "id": "VgwnUfoz8uEJ"
      },
      "execution_count": null,
      "outputs": []
    },
    {
      "cell_type": "code",
      "source": [
        "# Again a bit of clean-up, let's remove the bottom/top 1% of patients based on the number of \n",
        "#documents they have. \n",
        "docs_per_pt = noteevents['SUBJECT_ID'].value_counts()\n",
        "docs_per_pt_vals = docs_per_pt.values\n",
        "docs_per_pt_vals.sort()\n",
        "docs_per_pt_vals"
      ],
      "metadata": {
        "id": "YvXzKzZHGVYV"
      },
      "execution_count": null,
      "outputs": []
    },
    {
      "cell_type": "code",
      "source": [
        "rm_size = int(len(docs_per_pt_vals) / 100) * 1\n",
        "min_ln = max(docs_per_pt_vals[0:rm_size])\n",
        "max_ln = min(docs_per_pt_vals[-rm_size:])"
      ],
      "metadata": {
        "id": "d56rWU9_LRZO"
      },
      "execution_count": null,
      "outputs": []
    },
    {
      "cell_type": "code",
      "source": [
        "min_ln"
      ],
      "metadata": {
        "id": "d-zHtkOUL8ZW"
      },
      "execution_count": null,
      "outputs": []
    },
    {
      "cell_type": "code",
      "source": [
        "keep_subject_id = set([k for k, v in docs_per_pt.items() if v > 10 and v < 20])\n",
        "noteevents_rm_docs_per_pt = noteevents[[True if subject_id in keep_subject_id else False \n",
        "                  for subject_id in noteevents['SUBJECT_ID'].values]]\n",
        "noteevents_rm_docs_per_pt.head()"
      ],
      "metadata": {
        "id": "J8EY-BSI9GqB"
      },
      "execution_count": null,
      "outputs": []
    },
    {
      "cell_type": "code",
      "source": [
        "print(f\"Length after cleaning : {len(noteevents_rm_docs_per_pt)}\")\n",
        "print(f\"Length of the original: {len(noteevents_orig)}\")"
      ],
      "metadata": {
        "id": "TUFemXv19SQ0"
      },
      "execution_count": null,
      "outputs": []
    },
    {
      "cell_type": "code",
      "source": [
        "sns.distplot(noteevents_rm_docs_per_pt['SUBJECT_ID'].value_counts().values, kde=False, axlabel='Documents per patient')\n",
        "plt.show()"
      ],
      "metadata": {
        "id": "Ma-CENx19Zym"
      },
      "execution_count": null,
      "outputs": []
    },
    {
      "cell_type": "markdown",
      "source": [
        "Extract Sample of Data"
      ],
      "metadata": {
        "id": "whGYsIexrnwj"
      }
    },
    {
      "cell_type": "code",
      "source": [
        "subjects = pd.DataFrame(keep_subject_id)"
      ],
      "metadata": {
        "id": "ZxpDyGojM5DU"
      },
      "execution_count": null,
      "outputs": []
    },
    {
      "cell_type": "code",
      "source": [
        "len(subjects)"
      ],
      "metadata": {
        "id": "eCn1dhIgNXWY"
      },
      "execution_count": null,
      "outputs": []
    },
    {
      "cell_type": "code",
      "source": [
        "#sample from subject ids \n",
        "sub_samples = subjects.sample(frac=0.01, random_state=4132023)"
      ],
      "metadata": {
        "id": "U4PJzM_AJ8Xc"
      },
      "execution_count": null,
      "outputs": []
    },
    {
      "cell_type": "code",
      "source": [
        "len(sub_samples)"
      ],
      "metadata": {
        "id": "pc1MzJ8QC71p"
      },
      "execution_count": null,
      "outputs": []
    },
    {
      "cell_type": "code",
      "source": [
        "keep_samp = sub_samples.iloc[:,0].values.tolist()"
      ],
      "metadata": {
        "id": "fEuP6TT4NQFO"
      },
      "execution_count": null,
      "outputs": []
    },
    {
      "cell_type": "code",
      "source": [
        "sampled_notes = noteevents_rm_docs_per_pt[[True if subject_id in keep_samp else False \n",
        "                  for subject_id in noteevents_rm_docs_per_pt['SUBJECT_ID'].values]]"
      ],
      "metadata": {
        "id": "88GdUUdbrtgg"
      },
      "execution_count": null,
      "outputs": []
    },
    {
      "cell_type": "code",
      "source": [],
      "metadata": {
        "id": "APeyfexrDZAj"
      },
      "execution_count": null,
      "outputs": []
    },
    {
      "cell_type": "code",
      "source": [
        "sns.distplot(sampled_notes['SUBJECT_ID'].value_counts().values, kde=False, axlabel='Documents per patient')\n",
        "plt.show()"
      ],
      "metadata": {
        "id": "nqpTmX9zAeSF"
      },
      "execution_count": null,
      "outputs": []
    },
    {
      "cell_type": "code",
      "source": [
        "sampled_notes = sampled_notes.set_index(['ROW_ID'])"
      ],
      "metadata": {
        "id": "QQWBtsHcaO-L"
      },
      "execution_count": null,
      "outputs": []
    },
    {
      "cell_type": "code",
      "source": [
        "sampled_notes.info()"
      ],
      "metadata": {
        "id": "sWW2SmgK0A0o"
      },
      "execution_count": null,
      "outputs": []
    },
    {
      "cell_type": "code",
      "source": [
        "sampled_notes.to_csv('/content/drive/MyDrive/CS598-DLH-Final-Project/Data-Preprocessing/Original-Data/SAMPLEDNOTEEVENTS.csv', index=False)"
      ],
      "metadata": {
        "id": "AwHj8qJRBht7"
      },
      "execution_count": null,
      "outputs": []
    },
    {
      "cell_type": "code",
      "source": [
        "SAMPLEDNOTEEVENTS = '/content/drive/MyDrive/CS598-DLH-Final-Project/Data-Preprocessing/Original-Data/SAMPLEDNOTEEVENTS.csv'"
      ],
      "metadata": {
        "id": "IS7K-SexCkOJ"
      },
      "execution_count": null,
      "outputs": []
    },
    {
      "cell_type": "code",
      "source": [
        "test = pd.read_csv(SAMPLEDNOTEEVENTS, low_memory=False)\n",
        "test.info()"
      ],
      "metadata": {
        "id": "FtUlZTPkGOiC"
      },
      "execution_count": null,
      "outputs": []
    },
    {
      "cell_type": "markdown",
      "source": [
        "###Data Cleaning & DL Preparation"
      ],
      "metadata": {
        "id": "C-uH5wdUfi5X"
      }
    },
    {
      "cell_type": "markdown",
      "source": [
        "Call the noteEvents_preproc Python file"
      ],
      "metadata": {
        "id": "S2S-30AYARvM"
      }
    },
    {
      "cell_type": "code",
      "source": [
        "!python3 /content/drive/MyDrive/CS598-DLH-Final-Project/patient_trajectory_prediction/data_cleaning/noteEvents_preproc.py"
      ],
      "metadata": {
        "id": "7ebxU1lkC0jn"
      },
      "execution_count": null,
      "outputs": []
    },
    {
      "cell_type": "code",
      "source": [
        "OUTPUT = '/content/drive/MyDrive/CS598-DLH-Final-Project/Data-Preprocessing/Output-Data/output.csv'"
      ],
      "metadata": {
        "id": "AZbGOR40HRFA"
      },
      "execution_count": null,
      "outputs": []
    },
    {
      "cell_type": "code",
      "source": [
        "outputdata = pd.read_csv(OUTPUT, low_memory=False)"
      ],
      "metadata": {
        "id": "rgBVHtScFPjK"
      },
      "execution_count": null,
      "outputs": []
    },
    {
      "cell_type": "code",
      "source": [
        "outputdata.reset_index(inplace=True)\n",
        "outputdata = outputdata.rename(columns = {'index':'new column name'})"
      ],
      "metadata": {
        "id": "qtf7u6DWHX2f"
      },
      "execution_count": null,
      "outputs": []
    },
    {
      "cell_type": "code",
      "source": [
        "outputdata.head()"
      ],
      "metadata": {
        "id": "uSt21kFuooyC"
      },
      "execution_count": null,
      "outputs": []
    },
    {
      "cell_type": "code",
      "source": [
        "outputdata.to_csv('/content/drive/MyDrive/CS598-DLH-Final-Project/QuickUMLS/data/chunkssmall/1.csv', index = False, header = False)"
      ],
      "metadata": {
        "id": "w1lQVfmYpQFF"
      },
      "execution_count": null,
      "outputs": []
    },
    {
      "cell_type": "markdown",
      "source": [
        "Call the quickUMLS_getCUI.py file"
      ],
      "metadata": {
        "id": "8-YuxvZ4ewtk"
      }
    },
    {
      "cell_type": "code",
      "source": [
        "!python3 /content/drive/MyDrive/CS598-DLH-Final-Project/patient_trajectory_prediction/concept_annotation/quickUMLS_getCUI.py"
      ],
      "metadata": {
        "id": "ePSnOKFCtO5A"
      },
      "execution_count": null,
      "outputs": []
    },
    {
      "cell_type": "markdown",
      "source": [
        "Call the quickumls_processing.py file"
      ],
      "metadata": {
        "id": "yCN1aRIfe7Dc"
      }
    },
    {
      "cell_type": "code",
      "source": [
        "!python3 /content/drive/MyDrive/CS598-DLH-Final-Project/patient_trajectory_prediction/concept_annotation/quickumls_processing.py /content/drive/MyDrive/CS598-DLH-Final-Project/QuickUMLS/data/outputchunkssmall/concatenated_output.csv"
      ],
      "metadata": {
        "id": "cv2wszxPKR21"
      },
      "execution_count": null,
      "outputs": []
    },
    {
      "cell_type": "code",
      "source": [
        "test = pd.read_csv('/content/drive/MyDrive/CS598-DLH-Final-Project/Data-Preprocessing/Output-Data/post_processed_output.csv', low_memory=False,header = None)\n",
        "test.iloc[:,2] = test.iloc[:,2].fillna(0)\n",
        "test.iloc[:,2] = test.iloc[:,2].astype(int)\n",
        "test.info()\n"
      ],
      "metadata": {
        "id": "xDyu8I0nbeoa"
      },
      "execution_count": null,
      "outputs": []
    },
    {
      "cell_type": "code",
      "source": [
        "test.to_csv('/content/drive/MyDrive/CS598-DLH-Final-Project/Data-Preprocessing/Output-Data/post_process_output_no_index.csv', header = False, index = False)"
      ],
      "metadata": {
        "id": "ODOU8ujp52wx"
      },
      "execution_count": null,
      "outputs": []
    },
    {
      "cell_type": "markdown",
      "source": [
        "Call the 01_data_prepartion.py file"
      ],
      "metadata": {
        "id": "zdZ3tavMfLTG"
      }
    },
    {
      "cell_type": "code",
      "source": [
        "!python3 /content/drive/MyDrive/CS598-DLH-Final-Project/patient_trajectory_prediction/PyTorch_scripts/diagnoses_prediction/01_data_preparation.py"
      ],
      "metadata": {
        "id": "N6Ny6kIsy7D5"
      },
      "execution_count": null,
      "outputs": []
    },
    {
      "cell_type": "markdown",
      "source": [
        "##Training Code, Evaluation Code, Pretrained Model"
      ],
      "metadata": {
        "id": "GC-am9tKfwmx"
      }
    },
    {
      "cell_type": "code",
      "source": [
        "!python3 /content/drive/MyDrive/CS598-DLH-Final-Project/patient_trajectory_prediction/PyTorch_scripts/diagnoses_prediction/02_FFN_diagprediction.py"
      ],
      "metadata": {
        "id": "f7PXyW_a8Tn_"
      },
      "execution_count": null,
      "outputs": []
    },
    {
      "cell_type": "code",
      "source": [
        "!python3 /content/drive/MyDrive/CS598-DLH-Final-Project/patient_trajectory_prediction/PyTorch_scripts/diagnoses_prediction/02_GRU_train_GPU.py"
      ],
      "metadata": {
        "id": "1OUtTAIwgchK"
      },
      "execution_count": null,
      "outputs": []
    },
    {
      "cell_type": "code",
      "source": [
        "!python3 /content/drive/MyDrive/CS598-DLH-Final-Project/patient_trajectory_prediction/PyTorch_scripts/diagnoses_prediction/03_GRU_test.py"
      ],
      "metadata": {
        "id": "6Zo2imJwjCOr"
      },
      "execution_count": null,
      "outputs": []
    },
    {
      "cell_type": "markdown",
      "source": [
        "## Ablation Study"
      ],
      "metadata": {
        "id": "cnI6CUZI-4pS"
      }
    },
    {
      "cell_type": "code",
      "source": [],
      "metadata": {
        "id": "Hs4_ZRVvLw67"
      },
      "execution_count": null,
      "outputs": []
    }
  ]
}